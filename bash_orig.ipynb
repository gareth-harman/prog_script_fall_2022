{
 "cells": [
  {
   "cell_type": "markdown",
   "metadata": {
    "slideshow": {
     "slide_type": "slide"
    }
   },
   "source": [
    "# BMI565: Bioinformatics Programming & Scripting\n",
    "#### (C) Michael Mooney (mooneymi@ohsu.edu)\n",
    "#### * Thanks to Eric Leung for updating this material.\n",
    "## Week 2: Unix/Linux Commands and Bash Scripting\n",
    "\n",
    "1. Linux Background\n",
    "2. Basic Linux Commands\n",
    "    - Commands for Navigating the Directory Tree\n",
    "    - File Permissions\n",
    "    - Environment Variables\n",
    "    - Other Basic Utilities\n",
    "3. Input/Output Redirection\n",
    "    - STDIN and STDOUT\n",
    "    - Redirecting I/O: `>, >>, <`\n",
    "    - Pipes\n",
    "4. File Manipulation in Linux\n",
    "    - AWK\n",
    "    - sed\n",
    "    - cut, etc.\n",
    "5. Bash Scripts\n",
    "    - Local Variables\n",
    "    - Bash Control Structures\n",
    "    - Exit Status\n",
    "6. File Transfer\n",
    "    - curl and wget\n",
    "    - sftp and scp\n",
    "7. Useful Tools\n",
    "    - Screen\n",
    "    \n",
    "#### Requirements\n",
    "\n",
    "1. Bash for Windows (Git Bash), or bash on Linux/Mac"
   ]
  },
  {
   "cell_type": "markdown",
   "metadata": {},
   "source": [
    "## Getting Started"
   ]
  },
  {
   "cell_type": "markdown",
   "metadata": {},
   "source": [
    "Open a terminal window (use PuTTY if you are a Windows user) so you can connect to the Linux server and try out the commands demonstrated in this lecture.\n",
    "\n",
    "First, let's all SSH into `state`.\n",
    "\n",
    "```sh\n",
    "ssh <username>@state.ohsu.edu\n",
    "```\n",
    "\n",
    "And navigate to your folder.\n",
    "\n",
    "```sh\n",
    "cd /home/courses/BMI565/students/<username>\n",
    "```"
   ]
  },
  {
   "cell_type": "markdown",
   "metadata": {
    "slideshow": {
     "slide_type": "slide"
    }
   },
   "source": [
    "## Unix and Linux Background"
   ]
  },
  {
   "cell_type": "markdown",
   "metadata": {},
   "source": [
    "- Unix developed at Bell Labs in 1970s\n",
    "- Unix is operating system\n",
    "- Linux kernel (or core) developed in 1991 by Finnish-American programmer and computer scientist Linux Torvalds\n",
    "    - Linux and derivations are Unix-like\n",
    "    - Act very much like original Unix operating system\n",
    "- Multiple \"flavors\" of Linux with different purposes and uses\n",
    "    - Ubuntu = general purpose\n",
    "    - elementary OS = fast and open replacement for Windows and macOS\n",
    "    - Arch Linux = simple, lightweight distribution\n",
    "    - More in https://distrowatch.com/\n",
    "\n",
    "<img src=\"https://upload.wikimedia.org/wikipedia/commons/thumb/b/b5/Linux_Foundation_logo.png/320px-Linux_Foundation_logo.png\" width=\"200\" align=\"left\" />\n",
    "<img src=\"https://upload.wikimedia.org/wikipedia/commons/a/af/Tux.png\" width=\"200\" align=\"left\" />"
   ]
  },
  {
   "cell_type": "markdown",
   "metadata": {},
   "source": [
    "## Basic Linux Commands"
   ]
  },
  {
   "cell_type": "markdown",
   "metadata": {},
   "source": [
    "### The Most Important Command - The Manual"
   ]
  },
  {
   "cell_type": "markdown",
   "metadata": {},
   "source": [
    "```sh\n",
    "# What does the man command do?\n",
    "man man\n",
    "\n",
    "# The manual page for the ls command\n",
    "man ls\n",
    "```"
   ]
  },
  {
   "cell_type": "markdown",
   "metadata": {},
   "source": [
    "### Navigation Commands\n",
    "\n",
    "When you're confronted with a terminal, here are a few basic commands to get you around your computer.\n",
    "\n",
    "| Command   | Description             | Plain words                                   |\n",
    "|-----------|-------------------------|-----------------------------------------------|\n",
    "| `pwd`     | Print working directory | Your location in your computer                |\n",
    "| `ls`      | List directory contents | Look at what's around you at your location    |\n",
    "| `cd`      | Change directory        | Move your position in your computer           |\n",
    "\n",
    "In sum, the above commands help you navigate around your computer."
   ]
  },
  {
   "cell_type": "markdown",
   "metadata": {},
   "source": [
    "#### `pwd`"
   ]
  },
  {
   "cell_type": "markdown",
   "metadata": {},
   "source": [
    "You can use `pwd` (print working directory) to show you where you are in your computer."
   ]
  },
  {
   "cell_type": "markdown",
   "metadata": {},
   "source": [
    "#### `ls`"
   ]
  },
  {
   "cell_type": "markdown",
   "metadata": {},
   "source": [
    "After knowing where you are, you should find out what files and directories are around you.\n",
    "\n",
    "You can use various options to change the output depending on what is interesting to you.\n",
    "\n",
    "| Option | Description                          |\n",
    "|--------|--------------------------------------|\n",
    "| -l     | Format into a list                   |\n",
    "| -a     | List all files e.g. hidden dot files |\n",
    "| -t     | Order by last time modified          |\n",
    "| -r     | Reverse order results                |\n",
    "| -X     | Group by file type/extension         |"
   ]
  },
  {
   "cell_type": "markdown",
   "metadata": {},
   "source": [
    "#### `cd`"
   ]
  },
  {
   "cell_type": "markdown",
   "metadata": {},
   "source": [
    "It is no use if you can't go anywhere, so let's start moving around the computer using `cd`.\n",
    "\n",
    "Here are some key shortcuts for using `cd`.\n",
    "\n",
    "- `.` (single period) = this is where you are currently e.g. `cd .` = stays where you are\n",
    "- `..` (double period) = go up to the parent directory/folder e.g. `cd ..` = goes up\n",
    "- `-` (hyphen) = go to the previous location"
   ]
  },
  {
   "cell_type": "markdown",
   "metadata": {},
   "source": [
    "```sh\n",
    "# Briefly explore the computer with printing where you are with pwd\n",
    "pwd\n",
    "cd ..\n",
    "pwd\n",
    "cd -\n",
    "```"
   ]
  },
  {
   "cell_type": "markdown",
   "metadata": {},
   "source": [
    "### Echo and File Exploration"
   ]
  },
  {
   "cell_type": "markdown",
   "metadata": {},
   "source": [
    "Now that we have some files, we can take a look at files using a variety of commands.\n",
    "\n",
    "| Command | Description                               |\n",
    "|---------|-------------------------------------------|\n",
    "| echo    | Display lines                             |\n",
    "| head    | Prints first few lines                    |\n",
    "| cat     | Prints entire file and concatenates files |"
   ]
  },
  {
   "cell_type": "markdown",
   "metadata": {},
   "source": [
    "#### `echo`"
   ]
  },
  {
   "cell_type": "markdown",
   "metadata": {},
   "source": [
    "The `echo` command displays lines of text.\n",
    "\n",
    "Some reasons you may want to use `echo` are:\n",
    "\n",
    "- output messages to the screen\n",
    "- printing file names"
   ]
  },
  {
   "cell_type": "markdown",
   "metadata": {},
   "source": [
    "```sh\n",
    "# Print to the screen some text\n",
    "echo \"Hello, World!\"\n",
    "```"
   ]
  },
  {
   "cell_type": "markdown",
   "metadata": {},
   "source": [
    "#### `head`"
   ]
  },
  {
   "cell_type": "markdown",
   "metadata": {},
   "source": [
    "The `head` command will show just the beginning lines of a given file.\n",
    "\n",
    "By default, this command will show the first 10 lines of a file."
   ]
  },
  {
   "cell_type": "markdown",
   "metadata": {},
   "source": [
    "```sh\n",
    "# Take a look at the first few lines of a file\n",
    "head /home/courses/BMI565/examples/test.py\n",
    "```"
   ]
  },
  {
   "cell_type": "markdown",
   "metadata": {},
   "source": [
    "#### `cat`"
   ]
  },
  {
   "cell_type": "markdown",
   "metadata": {},
   "source": [
    "If you want to see more than just the first few lines of a file, you can use the `cat` command to print out the entire file.\n",
    "\n",
    "This command can also be used to concatenate or join multiple files together."
   ]
  },
  {
   "cell_type": "markdown",
   "metadata": {},
   "source": [
    "```sh\n",
    "# Print contents of a file to the terminal\n",
    "cat /home/courses/BMI565/examples/test.py\n",
    "```"
   ]
  },
  {
   "cell_type": "markdown",
   "metadata": {},
   "source": [
    "#### `less` \n",
    "\n",
    "The `less` command allows scrolling through a file."
   ]
  },
  {
   "cell_type": "markdown",
   "metadata": {},
   "source": [
    "```sh\n",
    "less /home/courses/BMI565/examples/test.py\n",
    "```"
   ]
  },
  {
   "cell_type": "markdown",
   "metadata": {},
   "source": [
    "#### `wc` - word/line count"
   ]
  },
  {
   "cell_type": "markdown",
   "metadata": {},
   "source": [
    "```sh\n",
    "wc -l /home/courses/BMI565/examples/test.py\n",
    "```"
   ]
  },
  {
   "cell_type": "markdown",
   "metadata": {},
   "source": [
    "### File Manipulations\n",
    "\n",
    "Once you're able to move around your computer, let's move around files and perform very simple changes to your files.\n",
    "\n",
    "| Command   | Description                 | Plain Words                                   |\n",
    "|-----------|-----------------------------|-----------------------------------------------|\n",
    "| `touch`   | Change file timestamps      | Creates new file if none existed              |\n",
    "| `cp`      | Copy files and directories  | Make clones of everything                     |\n",
    "| `mv`      | Move (and rename) files     | Change where files are in your computer       |\n",
    "| `rm`      | Remove files or directories | Delete files and be cautious using            |\n",
    "| `mkdir`   | Make directories            | Create new positions/folders in your computer |\n",
    "| `rmdir`   | Remove empty directories    | Remove empty folders on your computer         |\n",
    "\n",
    "In sum, the above commands help create, move, and delete files and directories."
   ]
  },
  {
   "cell_type": "markdown",
   "metadata": {},
   "source": [
    "#### `touch`"
   ]
  },
  {
   "cell_type": "markdown",
   "metadata": {},
   "source": [
    "Moving around your computer is great and all, but without files to open and edit, it can be kind of boring.\n",
    "\n",
    "The `touch` command is used for creating empty files quickly.\n",
    "\n",
    "This can be useful in creating a skeleton of an analysis work flow."
   ]
  },
  {
   "cell_type": "markdown",
   "metadata": {},
   "source": [
    "```sh\n",
    "# Create a new empty file quickly (make sure you are in your own directory)\n",
    "touch new_file_1.txt\n",
    "ls\n",
    "```"
   ]
  },
  {
   "cell_type": "markdown",
   "metadata": {},
   "source": [
    "#### `cp`"
   ]
  },
  {
   "cell_type": "markdown",
   "metadata": {},
   "source": [
    "Now that we have some files, you can create more with `cp`.\n",
    "\n",
    "The `cp` command is used to copy files and directories."
   ]
  },
  {
   "cell_type": "markdown",
   "metadata": {},
   "source": [
    "```sh\n",
    "# Create a copy of file\n",
    "cp new_file_1.txt new_file_2.txt\n",
    "ls\n",
    "```"
   ]
  },
  {
   "cell_type": "markdown",
   "metadata": {},
   "source": [
    "#### `mv`"
   ]
  },
  {
   "cell_type": "markdown",
   "metadata": {},
   "source": [
    "The `mv` command is used to **move** files and directories around your computer.\n",
    "\n",
    "Another use for this command is to **rename** things on your computer."
   ]
  },
  {
   "cell_type": "markdown",
   "metadata": {},
   "source": [
    "```sh\n",
    "# \"Rename\" file by moving to new name\n",
    "mv new_file_2.txt new_file_2_update.txt\n",
    "ls\n",
    "```"
   ]
  },
  {
   "cell_type": "markdown",
   "metadata": {},
   "source": [
    "#### `rm`"
   ]
  },
  {
   "cell_type": "markdown",
   "metadata": {},
   "source": [
    "The `rm` command **removes/deletes** files and directories around your computer.\n",
    "\n",
    "\n",
    "** Use with caution, there is no trash bin for retrieving deleted files on Linux."
   ]
  },
  {
   "cell_type": "markdown",
   "metadata": {},
   "source": [
    "```sh\n",
    "# Delete and remove files with rm\n",
    "rm new_file_2_update.txt\n",
    "ls\n",
    "```"
   ]
  },
  {
   "cell_type": "markdown",
   "metadata": {},
   "source": [
    "#### `mkdir` and `rmdir`"
   ]
  },
  {
   "cell_type": "markdown",
   "metadata": {},
   "source": [
    "Creating lots of files can get messy, so having an organization structure with folders can help keep your files tidy.\n",
    "\n",
    "The `mkdir` command **makes** directories, while the `rmdir` command **removes** (empty) directories.\n",
    "\n",
    "Let's create a new directory with `mkdir`."
   ]
  },
  {
   "cell_type": "markdown",
   "metadata": {},
   "source": [
    "```sh\n",
    "# Create new folders/directories\n",
    "mkdir new_dir\n",
    "cd new_dir\n",
    "pwd\n",
    "```"
   ]
  },
  {
   "cell_type": "markdown",
   "metadata": {},
   "source": [
    "We may eventually want to remove a directory for various reasons. We can remove empty directories using the `rmdir` command, which is similar and more limited than the `rm` command we just learned about."
   ]
  },
  {
   "cell_type": "markdown",
   "metadata": {},
   "source": [
    "```sh\n",
    "# Delete new (empty) directories\n",
    "rmdir new_dir\n",
    "ls\n",
    "```"
   ]
  },
  {
   "cell_type": "markdown",
   "metadata": {},
   "source": [
    "### File Permissions"
   ]
  },
  {
   "cell_type": "markdown",
   "metadata": {},
   "source": [
    "File permissions can be a foreign concept, especially when you've never encountered them before or it's never affected you. File permissions are properties of every file/directory on your computer and dictate **what** (type of action) can be done by **who** (groups). There are three user groups, and three types of actions:"
   ]
  },
  {
   "cell_type": "markdown",
   "metadata": {},
   "source": [
    "#### Permission Groups\n",
    "\n",
    "There are three permission groups:\n",
    "\n",
    "- **owner/user (u)** = personal owner of the file/directory\n",
    "- **group (g) = group** of users who have access to file/directory\n",
    "- **other users (o)** = users not in file's group\n",
    "- **all users (a)** = what is accessible to any user, independent of group"
   ]
  },
  {
   "cell_type": "markdown",
   "metadata": {},
   "source": [
    "#### Permission Types\n",
    "\n",
    "There are three permission types:\n",
    "\n",
    "- **read (r)** = user's capability to read the contents of file/directory\n",
    "- **write (w)** = user's capability to write or change a file/directory\n",
    "- **execute (x)** = user's capability to execute a file or view the contents of a directory"
   ]
  },
  {
   "cell_type": "markdown",
   "metadata": {},
   "source": [
    "#### `chmod`"
   ]
  },
  {
   "cell_type": "markdown",
   "metadata": {},
   "source": [
    "Let's create file to play around with its file permissions."
   ]
  },
  {
   "cell_type": "markdown",
   "metadata": {},
   "source": [
    "```sh\n",
    "# Create new empty file and explore file permissions\n",
    "touch restricted_file.txt\n",
    "ls -l  # List files with extra information\n",
    "```"
   ]
  },
  {
   "cell_type": "markdown",
   "metadata": {},
   "source": [
    "The `chmod` command stands for **change file mode**, which refers to the number of modes (or types) of permissions a file can have.\n",
    "\n",
    "This allows you to specify **who** has which permission **type**.\n",
    "\n",
    "There are two ways to manipulate a file/directory's:\n",
    "\n",
    "- **Octal representation** = using binary and numbers\n",
    "- **Symbolic representation** = letters and semantics (easier to remember, IMO)"
   ]
  },
  {
   "cell_type": "markdown",
   "metadata": {},
   "source": [
    "**Change permissions with octal representation**\n",
    "\n",
    "Octal representation makes use of a base-8 number system to represent the three types of permissions for each of the groups. Each base-8 number is a digit from 0 to 7.\n",
    "\n",
    "The power of this representation is in its conciseness, representing all possible combination of permission types into one number.\n",
    "\n",
    "Each number can be constructed using three binary numbers from each of the three types of permissions.\n",
    "\n",
    "Table below summarized all possible combinations.\n",
    "\n",
    "| Permission               | rwx | Binary | Number |\n",
    "|--------------------------|-----|--------|--------|\n",
    "| read, write, and execute | rwx | 111    | 7      |\n",
    "| read and write           | rw- | 110    | 6      |\n",
    "| read and execute         | r-x | 101    | 5      |\n",
    "| read only                | r-- | 100    | 4      |\n",
    "| write and execute        | -wx | 011    | 3      |\n",
    "| write only               | -w- | 010    | 2      |\n",
    "| execute only             | --x | 001    | 1      |\n",
    "| none                     | --- | 000    | 0      |\n",
    "\n",
    "Another way to look at this is using just numbers:\n",
    "\n",
    "- read = 4\n",
    "- write = 2\n",
    "- execute = 1\n",
    "\n",
    "When crafting the correct number, you can follow this general workflow:\n",
    "\n",
    "- figure out what kind of permissions you want,\n",
    "- organize these permissions into the structure (read, write, execute),\n",
    "- translate values to binary,\n",
    "- translate binary to octal.\n",
    "\n",
    "Each number can then be used to represent each of the three categories of people: user, group, and others (in that order).\n",
    "\n",
    "For example, to give **read,write** (4 + 2 = 6) to the owner and **read** (4) to both group and others, you can run the following command with `chmod`:"
   ]
  },
  {
   "cell_type": "markdown",
   "metadata": {},
   "source": [
    "```sh\n",
    "# Change permissions of our file\n",
    "chmod 644 restricted_file.txt\n",
    "ls -l\n",
    "```"
   ]
  },
  {
   "cell_type": "markdown",
   "metadata": {},
   "source": [
    "**Change permissions with symbolic representation**\n",
    "\n",
    "You can also use what is called symbolic representation to modify permissions.\n",
    "\n",
    "This can be easier to remember and use because you don't have to remember which permission equals what number and how to put together the number as well.\n",
    "\n",
    "All you need to remember are letters for the different roles:\n",
    "\n",
    "| Letter | Role   |\n",
    "|--------|--------|\n",
    "| u      | user   |\n",
    "| g      | group  |\n",
    "| o      | others |\n",
    "\n",
    "And the different permissions:\n",
    "\n",
    "| Letter | Permission |\n",
    "|--------|------------|\n",
    "| r      | read       |\n",
    "| w      | write      |\n",
    "| x      | execute    |\n",
    "\n",
    "Then use the following arithmetic symbols to change the permissions:\n",
    "\n",
    "- `+` = add permission in addition to current permissions\n",
    "- `-` = remove permission from current permissions\n",
    "- `=` = set only the specified permissions\n",
    "\n",
    "To do the same from above\n",
    "\n",
    "> ...to give **read,write** (4 + 2 = 6) to user and just **read** (4) to both group and others, ...\n",
    "\n",
    "you can run the following:"
   ]
  },
  {
   "cell_type": "markdown",
   "metadata": {},
   "source": [
    "```sh\n",
    "# Change file permissions with symbols\n",
    "chmod u=rw,g=r,o=r restricted_file.txt\n",
    "ls -l\n",
    "```"
   ]
  },
  {
   "cell_type": "markdown",
   "metadata": {},
   "source": [
    "**Resources and more**\n",
    "\n",
    "- [7 Chmod Command Examples for Beginners (The Geek Stuff)](https://www.thegeekstuff.com/2010/06/chmod-command-examples/)\n",
    "- [Beginners Guide to File and Directory Permissions (The Geek Stuff)](https://www.thegeekstuff.com/2010/04/unix-file-and-directory-permissions/)\n",
    "- [Examples of chmod](http://examplenow.com/chmod/)"
   ]
  },
  {
   "cell_type": "markdown",
   "metadata": {},
   "source": [
    "### Environment Variables"
   ]
  },
  {
   "cell_type": "markdown",
   "metadata": {},
   "source": [
    "Environment variables hold information for your computer to read and make decisions about.\n",
    "\n",
    "You can use the `env` command to see all created environmental variables.\n",
    "\n",
    "One important environmental variable is your `PATH` variable. This variable controls how your computer searches for programs/software."
   ]
  },
  {
   "cell_type": "markdown",
   "metadata": {},
   "source": [
    "```sh\n",
    "# Check where the python interpreter is\n",
    "which python\n",
    "```"
   ]
  },
  {
   "cell_type": "markdown",
   "metadata": {},
   "source": [
    "You can access environment variables using the dollar sign, `$`, in front of the variable name."
   ]
  },
  {
   "cell_type": "markdown",
   "metadata": {},
   "source": [
    "```sh\n",
    "# Print out our PATH variable\n",
    "echo $PATH\n",
    "```"
   ]
  },
  {
   "cell_type": "markdown",
   "metadata": {},
   "source": [
    "You can manipulate your path variable with an equals sign `=` to append new parts of the path to the existing one using a colon, `:`. Note: there can be no spaces on either side of the `=`."
   ]
  },
  {
   "cell_type": "markdown",
   "metadata": {},
   "source": [
    "```sh\n",
    "# Edit our path by adding the ~/bin directory\n",
    "echo $PATH\n",
    "PATH=~/bin:$PATH\n",
    "echo $PATH\n",
    "```"
   ]
  },
  {
   "cell_type": "markdown",
   "metadata": {},
   "source": [
    "Changes made to the evironment variables like this will be temporary (if you log off the system, the changes won't be there when you return).\n",
    "\n",
    "Also, you'll need to `export` variables for changes to be seen from any subshell (e.g. any shell script or application) called from this shell."
   ]
  },
  {
   "cell_type": "markdown",
   "metadata": {},
   "source": [
    "```sh\n",
    "export PATH\n",
    "```"
   ]
  },
  {
   "cell_type": "markdown",
   "metadata": {},
   "source": [
    "## Redirect Input and Output"
   ]
  },
  {
   "cell_type": "markdown",
   "metadata": {},
   "source": [
    "Sometimes when running commands, you'll want to chain together multiple commands or write the output to a file rather than the screen. You can do this by **redirecting** data streams (input or output of commands)."
   ]
  },
  {
   "cell_type": "markdown",
   "metadata": {},
   "source": [
    "### Standard Streams"
   ]
  },
  {
   "cell_type": "markdown",
   "metadata": {},
   "source": [
    "**Streams** are different types of information or data traveling within the Linux shell.\n",
    "\n",
    "There are three standard streams of information:\n",
    "\n",
    "- **STDIN** = standard input e.g. keyboard\n",
    "- **STDOUT** = standard output e.g. screen\n",
    "- **STDERR** = standard error"
   ]
  },
  {
   "cell_type": "markdown",
   "metadata": {},
   "source": [
    "### Redirection of Streams"
   ]
  },
  {
   "cell_type": "markdown",
   "metadata": {},
   "source": [
    "Now that we have an understanding of the basic streams of data available to us, we can redirect these streams however we like using the less than and greater than symbols.\n",
    "\n",
    "| Write Status | Symbol | Description     |\n",
    "|--------------|--------|-----------------|\n",
    "| Overwrite    | >      | Standard output |\n",
    "| Overwrite    | <      | Standard input  |\n",
    "| Overwrite    | 2>     | Standard error  |\n",
    "| Append       | >>     | Standard output |\n",
    "| Append       | <<     | Standard input  |\n",
    "| Append       | 2>>    | Standard error  |\n"
   ]
  },
  {
   "cell_type": "markdown",
   "metadata": {},
   "source": [
    "#### Output and Overwrite with >"
   ]
  },
  {
   "cell_type": "markdown",
   "metadata": {},
   "source": [
    "You can use the `>` (greater than symbol) character to write the output of a program to a file."
   ]
  },
  {
   "cell_type": "markdown",
   "metadata": {},
   "source": [
    "```sh\n",
    "# Take output of command and redirect it to a file\n",
    "ls ../ > list_of_files.txt\n",
    "head list_of_files.txt\n",
    "```"
   ]
  },
  {
   "cell_type": "markdown",
   "metadata": {},
   "source": [
    "#### Output and Append with >>"
   ]
  },
  {
   "cell_type": "markdown",
   "metadata": {},
   "source": [
    "The single greater than sign will overwrite the files you redirect to. But what if you want to just keep on adding to a list?\n",
    "\n",
    "That's where the double greater than sign `>>` comes in.\n",
    "\n",
    "This double greater than sign will add to the bottom of the file."
   ]
  },
  {
   "cell_type": "markdown",
   "metadata": {},
   "source": [
    "```sh\n",
    "# The -e flag tells echo to interpret the backslash\n",
    "echo -e \"\\nCompare with sorted list\" >> list_of_files.txt\n",
    "\n",
    "# Instead of overwriting a file, let's just append to it\n",
    "ls -lt ../ >> list_of_files.txt\n",
    "cat list_of_files.txt\n",
    "```"
   ]
  },
  {
   "cell_type": "markdown",
   "metadata": {},
   "source": [
    "#### Input with <"
   ]
  },
  {
   "cell_type": "markdown",
   "metadata": {},
   "source": [
    "You can also redirect files **into** commands using the less than symbol, `<`."
   ]
  },
  {
   "cell_type": "markdown",
   "metadata": {},
   "source": [
    "```sh\n",
    "# Take file and input it to a command (line count)\n",
    "wc -l < list_of_files.txt\n",
    "```"
   ]
  },
  {
   "cell_type": "markdown",
   "metadata": {},
   "source": [
    "### Pipe"
   ]
  },
  {
   "cell_type": "markdown",
   "metadata": {},
   "source": [
    "The pipe character, `|` (generally found above the Enter key), will redirect output from one command to the input of another command.\n",
    "\n",
    "Let's look at what we have so far in our directory."
   ]
  },
  {
   "cell_type": "markdown",
   "metadata": {},
   "source": [
    "```sh\n",
    "# Remind ourselves what is in our working directory\n",
    "ls\n",
    "```"
   ]
  },
  {
   "cell_type": "markdown",
   "metadata": {},
   "source": [
    "Now, say I only want to look at 5 entries by using the `head` command."
   ]
  },
  {
   "cell_type": "markdown",
   "metadata": {},
   "source": [
    "```sh\n",
    "# Pipe output of command into another\n",
    "ls | head -n 2\n",
    "\n",
    "# Same example but taking more steps\n",
    "ls > all_files.txt\n",
    "head -n 2 all_files.txt\n",
    "\n",
    "# This command is particularly useful if you want to see \n",
    "# just a few of the most recently modified files\n",
    "ls -lt | head\n",
    "```"
   ]
  },
  {
   "cell_type": "markdown",
   "metadata": {},
   "source": [
    "#### Resources and more\n",
    "\n",
    "- [Input Output Redirection in Linux/Unix Examples (Guru99)](https://www.guru99.com/linux-redirection.html)\n",
    "- [An Introduction to Linux I/O Redirection (Digital Ocean)](https://www.digitalocean.com/community/tutorials/an-introduction-to-linux-i-o-redirection)\n",
    "- [Input/Output Redirection in the Shell (thoughtbot)](https://robots.thoughtbot.com/input-output-redirection-in-the-shell)\n",
    "- [Pipeline (Wikipedia)](https://en.wikipedia.org/wiki/Pipeline_(Unix))\n",
    "- [Bash One-Liners Explained, Part III: All about redirections](http://www.catonmat.net/blog/bash-one-liners-explained-part-three/)"
   ]
  },
  {
   "cell_type": "markdown",
   "metadata": {},
   "source": [
    "## Exercise Break! (See Exercise #1 below)"
   ]
  },
  {
   "cell_type": "markdown",
   "metadata": {},
   "source": [
    "## File Manipulation with Built-In Tools"
   ]
  },
  {
   "cell_type": "markdown",
   "metadata": {},
   "source": [
    "We now have a basic understanding of how to move around our computer using the command line, explore files, and manipulate data to go where we want.\n",
    "\n",
    "Here, let us explore powerful tools to manipulate text files. Many of these functions are available in Python and R, but here we can show the exact same functionality with time-tested tools."
   ]
  },
  {
   "cell_type": "markdown",
   "metadata": {},
   "source": [
    "### `awk` - text processing language with strength in tabular data"
   ]
  },
  {
   "cell_type": "markdown",
   "metadata": {},
   "source": [
    "The `awk` command line tool is a powerful tool for processing text files, especially those organized into rows and columns i.e. tabular data."
   ]
  },
  {
   "cell_type": "markdown",
   "metadata": {},
   "source": [
    "#### General syntax"
   ]
  },
  {
   "cell_type": "markdown",
   "metadata": {},
   "source": [
    "Borrowed from [Raunak Ramakrishnan](https://dev.to/rrampage/awk---a-useful-little-language-2fhf), their blog post has broken down how awk works in terms of Python pseudocode."
   ]
  },
  {
   "cell_type": "markdown",
   "metadata": {},
   "source": [
    "```\n",
    "initialize()                             # Initializes variables in BEGIN block\n",
    "for line in input_lines:                 # Divides input into a list of lines\n",
    "    for condition, action in conditions: # Just list of condition-action pairs\n",
    "        if condition(line):              # Match line against condition\n",
    "            action()                     # Perform action on match\n",
    "```"
   ]
  },
  {
   "cell_type": "markdown",
   "metadata": {},
   "source": [
    "In other words, `awk` is a sequence of **pattern-action** pairs where it checks each line if it matches some pattern. If it does, the action will be executed."
   ]
  },
  {
   "cell_type": "markdown",
   "metadata": {},
   "source": [
    "```\n",
    "BEGIN {...}\n",
    "CONDITION {action}\n",
    "CONDITION {action}\n",
    "END {...}\n",
    "```"
   ]
  },
  {
   "cell_type": "markdown",
   "metadata": {},
   "source": [
    "#### Built-in variables"
   ]
  },
  {
   "cell_type": "markdown",
   "metadata": {},
   "source": [
    "There are some built-in variables that can be used to make using `awk` more powerful. These variables relate to the file itself, such as the number of columns/fields in the file, which may be useful in manipulating the file.\n",
    "\n",
    "| Variable   | Description                            | Example                          |\n",
    "|------------|----------------------------------------|----------------------------------|\n",
    "| FS         | Input separator                        | `awk 'BEGIN{FS=\"FS\";}'`          |\n",
    "| OFS        | Output separator                       | `awk 'BEGIN{OFS=\"=\";}'`          |\n",
    "| RS         | Determines what is a record            | `awk 'BEGIN{RS=\"\\n\\n\";}'`        |\n",
    "| ORS        | Output record separator                | `awk 'BEGIN{ORS=\"=\";}'`          |\n",
    "| NR         | Number of record                       | `awk '{print \"Number - \", NR;}'` |\n",
    "| NF         | Number of fields/columns               | `awk '{print NR,\"->\",NF;}'`      |\n",
    "| FILENAME   | Name of current file                   | `awk '{print FILENAME}'`         |\n",
    "| FNR        | Numbers of records relative to current | `awk '{print FILENAME, FNR;}'`   |\n",
    "| `$0`       | The entire line                        | `awk '{print $0;}``              |\n",
    "| `$n`       | The nth field number                   | `awk '{print $1;}'`              |\n"
   ]
  },
  {
   "cell_type": "markdown",
   "metadata": {},
   "source": [
    "#### Examples"
   ]
  },
  {
   "cell_type": "markdown",
   "metadata": {},
   "source": [
    "Now that we have the general syntax, let's try out some `awk` commands."
   ]
  },
  {
   "cell_type": "markdown",
   "metadata": {},
   "source": [
    "```sh\n",
    "# Reminder of what the -l flag does\n",
    "ls -l\n",
    "\n",
    "# Examples of awk and potential actions\n",
    "ls -l | awk '{ print $6 \" \" $10 }'\n",
    "ls -l | awk '{ print $6 * 2 }'\n",
    "```"
   ]
  },
  {
   "cell_type": "markdown",
   "metadata": {},
   "source": [
    "#### Resources and More\n",
    "\n",
    "- [Awk - A useful little language](https://dev.to/rrampage/awk---a-useful-little-language-2fhf)\n",
    "- [How to Write AWK Commands and Scripts](https://www.lifewire.com/write-awk-commands-and-scripts-2200573)\n",
    "- [8 Powerful Awk Built-in Variables (The Geek Stuff)](https://www.thegeekstuff.com/2010/01/8-powerful-awk-built-in-variables-fs-ofs-rs-ors-nr-nf-filename-fnr/)\n",
    "- [Awk (Grymoire)](http://www.grymoire.com/Unix/Awk.html)\n",
    "- [awk or gawk (GNU awk)](https://ss64.com/bash/awk.html)\n",
    "- [Learn by Example awk](https://github.com/learnbyexample/Command-line-text-processing/blob/master/gnu_awk.md)"
   ]
  },
  {
   "cell_type": "markdown",
   "metadata": {},
   "source": [
    "### `sed` - edit streams of text"
   ]
  },
  {
   "cell_type": "markdown",
   "metadata": {},
   "source": [
    "The `sed` command is another powerful command. While `awk` is useful for manipulating tabular data, `sed` is used to read in text and transform it.\n",
    "\n",
    "A simple use of `sed` is for replacing text."
   ]
  },
  {
   "cell_type": "markdown",
   "metadata": {},
   "source": [
    "```sh\n",
    "# Use sed to replace day and night\n",
    "echo Sunday | sed 's/day/night/'\n",
    "```"
   ]
  },
  {
   "cell_type": "markdown",
   "metadata": {},
   "source": [
    "#### Resources and More\n",
    "\n",
    "- [sed (Grymoire](http://www.grymoire.com/Unix/Sed.html)\n",
    "- [sed (SS64)](https://ss64.com/bash/sed.html)"
   ]
  },
  {
   "cell_type": "markdown",
   "metadata": {},
   "source": [
    "### `cut` - divide file into several parts by columns/delimiter"
   ]
  },
  {
   "cell_type": "markdown",
   "metadata": {},
   "source": [
    "The `cut` command is useful to divide a file into several parts.\n",
    "\n",
    "It goes through each line to cut parts of it based on:\n",
    "\n",
    "- byte position\n",
    "- character\n",
    "- field"
   ]
  },
  {
   "cell_type": "markdown",
   "metadata": {},
   "source": [
    "```sh\n",
    "# Splice and dice tabular output, taking first 10 columns/bytes\n",
    "ls -l\n",
    "ls -l | cut -b 1-10\n",
    "```"
   ]
  },
  {
   "cell_type": "markdown",
   "metadata": {},
   "source": [
    "### `paste`"
   ]
  },
  {
   "cell_type": "markdown",
   "metadata": {},
   "source": [
    "`paste` can be used to merge two files. Each row of the input files will be concatenated, separted by a delimiter (tab is default) and printed to the screen. For example, using `paste` to combine two tab delimited input files, each with 2 columns and 10 rows, will result in 10 rows of 4 columns being printed to the screen. The `-d` option can be used to specify the delimiter.\n",
    "\n",
    "    paste file1.txt file2.txt\n",
    "    \n",
    "    paste -d ',' file1.txt file2.txt"
   ]
  },
  {
   "cell_type": "markdown",
   "metadata": {},
   "source": [
    "### `sort` - put items in order"
   ]
  },
  {
   "cell_type": "markdown",
   "metadata": {},
   "source": [
    "As the name implies, the `sort` command will order a list of items."
   ]
  },
  {
   "cell_type": "markdown",
   "metadata": {},
   "source": [
    "```sh\n",
    "# Rearrange list of items\n",
    "ls | sort\n",
    "```"
   ]
  },
  {
   "cell_type": "markdown",
   "metadata": {},
   "source": [
    "### `uniq` - filters repeated lines in a file"
   ]
  },
  {
   "cell_type": "markdown",
   "metadata": {},
   "source": [
    "```sh\n",
    "python /home/courses/BMI565/examples/test.py 5 | uniq\n",
    "```"
   ]
  },
  {
   "cell_type": "markdown",
   "metadata": {},
   "source": [
    "### `grep` - search for patterns in a file"
   ]
  },
  {
   "cell_type": "markdown",
   "metadata": {},
   "source": [
    "```sh\n",
    "# Count the number of lines containing \"Welcome\"\n",
    "python /home/courses/BMI565/examples/test.py 5 | grep -c \"Welcome\" \n",
    "\n",
    "# Output all matches in the input\n",
    "python /home/courses/BMI565/examples/test.py 5 | grep -o \"Welcome\"\n",
    "```"
   ]
  },
  {
   "cell_type": "markdown",
   "metadata": {},
   "source": [
    "### `find` - search for files"
   ]
  },
  {
   "cell_type": "markdown",
   "metadata": {},
   "source": [
    "The `find` command will be helpful to search for files.\n",
    "\n",
    "The general form of this command is\n",
    "\n",
    "```\n",
    "find (starting directory) (matching criteria and actions)\n",
    "```\n",
    "\n",
    "Here's a table summarizing the types of matching criteria available.\n",
    "\n",
    "| Criteria     | Description                              |\n",
    "|--------------|------------------------------------------|\n",
    "| `-atime n`   | File accessed n days ago                 |\n",
    "| `-mtime n`   | File modified n days ago                 |\n",
    "| `-size n`    | File is n blocks big (block = 512 bytes) |\n",
    "| `-type c`    | File type, f=file,d=dir                  |\n",
    "| `-name nam`  | Search filename nam                      |\n",
    "| `-user usr`  | File's owner is usr                      |\n",
    "| `-group grp` | File's group is grp                      |\n",
    "| `-perm p`    | File's access mode is p                  |\n",
    "\n",
    "Arithmetic modifiers can be used to specify values.\n",
    "\n",
    "| Modifiers    | Description                          |\n",
    "|--------------|--------------------------------------|\n",
    "| `-mtime +7`  | Modified more than seven days ago    |\n",
    "| `-atime -2`  | File accessed less than two days ago |\n",
    "| `-size +100` | File larger than 100 blocks (50 KB)  |\n"
   ]
  },
  {
   "cell_type": "markdown",
   "metadata": {},
   "source": [
    "```sh\n",
    "# Look for text files accessed less than three days ago\n",
    "find . -atime -3 -name \"*.txt\"\n",
    "```"
   ]
  },
  {
   "cell_type": "markdown",
   "metadata": {},
   "source": [
    "#### Resources and More\n",
    "\n",
    "- [35 Practical Examples of Linux Find Command](https://www.tecmint.com/35-practical-examples-of-linux-find-command/)\n",
    "- [Use the Unix find command to search for files](https://kb.iu.edu/d/admm)"
   ]
  },
  {
   "cell_type": "markdown",
   "metadata": {},
   "source": [
    "## Exercise Break! (See Exercise #2 below)"
   ]
  },
  {
   "cell_type": "markdown",
   "metadata": {},
   "source": [
    "## Bash Scripting"
   ]
  },
  {
   "cell_type": "markdown",
   "metadata": {},
   "source": [
    "Similar to Python scripting, bash scripting is a quick way to:\n",
    "\n",
    "- automate repetitive tasks\n",
    "- create custom sequence of commands\n",
    "- link together software tools written in different languages"
   ]
  },
  {
   "cell_type": "markdown",
   "metadata": {},
   "source": [
    "### Local Variables"
   ]
  },
  {
   "cell_type": "markdown",
   "metadata": {},
   "source": [
    "We covered variables very briefly when we talked about the `$PATH` variable. This is a built-in variable, but you can also create variables yourself."
   ]
  },
  {
   "cell_type": "markdown",
   "metadata": {},
   "source": [
    "```sh\n",
    "# Save and echo out variables\n",
    "university=\"Oregon Health & Science University\"\n",
    "echo $university\n",
    "```"
   ]
  },
  {
   "cell_type": "markdown",
   "metadata": {},
   "source": [
    "Mind that there should be **no space** around the equals sign.\n",
    "\n",
    "And to call the variable, you need the **dollar sign** in front of the variable name to use it.\n",
    "\n",
    "Just a tease of what variables can do, you can save the output of one command into a variable and then use it later."
   ]
  },
  {
   "cell_type": "markdown",
   "metadata": {},
   "source": [
    "```sh\n",
    "# Quick assignment of command output to variables\n",
    "file_list=$(ls)\n",
    "echo $file_list\n",
    "```"
   ]
  },
  {
   "cell_type": "markdown",
   "metadata": {},
   "source": [
    "### Pass in Arguments"
   ]
  },
  {
   "cell_type": "markdown",
   "metadata": {},
   "source": [
    "Sometimes, instead of hard-coding (explicitly typing in) file names into your scripts, maybe we'd like our script to work with any file we give it.\n",
    "\n",
    "Let's create a simple script that will count the number of lines a file has and create a test file."
   ]
  },
  {
   "cell_type": "markdown",
   "metadata": {},
   "source": [
    "```sh\n",
    "# Create a simple bash script to take in arguments\n",
    "echo '#!/usr/bin/env bash\n",
    "filename=$1\n",
    "\n",
    "if [ -r $filename ]; then\n",
    "linecount=$(wc -l < $filename)\n",
    "printf \"%s has %d lines\\n\" $filename $linecount\n",
    "fi' > count_lines.sh\n",
    "cat count_lines.sh\n",
    "\n",
    "# The -e flag interprets backslash characters to create new lines with \\n\n",
    "echo -e \"This\\nfile\\nhas\\nseven\\nlines\\nin\\nit\" > test_file.txt\n",
    "echo \"\" # Just create a space between results\n",
    "cat test_file.txt\n",
    "```"
   ]
  },
  {
   "cell_type": "markdown",
   "metadata": {},
   "source": [
    "Now we can run the script we just created using the file we want as an **argument**."
   ]
  },
  {
   "cell_type": "markdown",
   "metadata": {},
   "source": [
    "```sh\n",
    "# Read in command line arguments\n",
    "bash count_lines.sh test_file.txt\n",
    "```"
   ]
  },
  {
   "cell_type": "markdown",
   "metadata": {},
   "source": [
    "### Control Structures"
   ]
  },
  {
   "cell_type": "markdown",
   "metadata": {},
   "source": [
    "Similar to Python, you can write statements in bash to control the flow of logic based on conditions or loop through a list of items."
   ]
  },
  {
   "cell_type": "markdown",
   "metadata": {},
   "source": [
    "####  if/elif/else blocks"
   ]
  },
  {
   "cell_type": "markdown",
   "metadata": {},
   "source": [
    "We briefly saw the `if` statement being used earlier.\n",
    "\n",
    "The general syntax using conditional is:\n",
    "\n",
    "```\n",
    "if [ expression ]; then\n",
    "  Code is 'expression' is true\n",
    "fi\n",
    "```\n",
    "\n",
    "Here's a working example using `if` statements"
   ]
  },
  {
   "cell_type": "markdown",
   "metadata": {},
   "source": [
    "```sh\n",
    "# Set variable\n",
    "object=\"food\"\n",
    "\n",
    "# Check if variable is car or food\n",
    "if [ $object == \"car\" ]; then\n",
    "  echo \"This is a car\"\n",
    "elif [ $object == \"food\" ]; then\n",
    "  echo \"This is food\"\n",
    "else\n",
    "  echo \"I don't know what this is\"\n",
    "fi\n",
    "```"
   ]
  },
  {
   "cell_type": "markdown",
   "metadata": {},
   "source": [
    "##### Resources and more\n",
    "\n",
    "- [6. Conditionals](http://tldp.org/HOWTO/Bash-Prog-Intro-HOWTO-6.html)"
   ]
  },
  {
   "cell_type": "markdown",
   "metadata": {},
   "source": [
    "#### Various Conditions\n",
    "\n",
    "Below are tables summarizing the various kinds of conditionals in bash.\n",
    "\n",
    "**Files and Directories**\n",
    "\n",
    "| Condition         | Description                      |\n",
    "|-------------------|----------------------------------|\n",
    "| `[ -e file ]`     | Check file exists                |\n",
    "| `[ -d directory]` | Check directory exists           |\n",
    "| `[ -r file ]`     | Check file exists and readable   |\n",
    "| `[ -w file ]`     | Check file exists and writable   |\n",
    "| `[ -x file ]`     | Check file exists and executable |\n",
    "\n",
    "**Compare Strings**\n",
    "\n",
    "| Condition                | Description                          |\n",
    "|--------------------------|--------------------------------------|\n",
    "| `[ -z STRING ]`          | True if length of STRING is zero     |\n",
    "| `[ -n STRING ]`          | True if length of STRING is non-zero |\n",
    "| `[ STRING1 == STRING2 ]` | True if strings are equal            |\n",
    "| `[ STRING1 != STRING2 ]` | True if strings are not equal        |\n",
    "| `[ STRING1 < STRING2 ]`  | True if STRING1 sorts before STRING2 |\n",
    "| `[ STRING2 > STRING2 ]`  | True if STRING1 sorts after STRING2  |\n",
    "\n",
    "**Numeric Comparisons**\n",
    "\n",
    "| Condition            | Description                        |\n",
    "|----------------------|------------------------------------|\n",
    "| `[ NUM1 -eq NUM2 ]`  | Two numbers are equal              |\n",
    "| `[ NUM1 -ne NUM2 ]`  | Two numbers not equal              |\n",
    "| `[ NUM1 -gt NUM2 ]`  | NUM1 greater than NUM2             |\n",
    "| `[ NUM1 -ge NUM2 ]`  | NUM1 greater than or equal to NUM2 |\n",
    "| `[ NUM1 -lt NUM2 ]`  | NUM1 less than NUM2                |\n",
    "| `[ NUM1 -le NUM2 ]`  | NUM1 less than or equal to NUM2    |\n",
    "| `(( NUM1 == NUM2 ))` | Two numbers are equal              |\n",
    "\n",
    "**Note**: Double parentheses are specifically for arithmetic expressions. In other words `[ NUM1 > NUM2 ]` would fail, but `(( NUM1 > NUM2 ))` would work."
   ]
  },
  {
   "cell_type": "markdown",
   "metadata": {},
   "source": [
    "##### Resources and more\n",
    "\n",
    "- [Introduction to if](http://www.tldp.org/LDP/Bash-Beginners-Guide/html/sect_07_01.html)\n",
    "- [What is the difference between double and single square brackets in bash?](https://serverfault.com/questions/52034/what-is-the-difference-between-double-and-single-square-brackets-in-bash)\n"
   ]
  },
  {
   "cell_type": "markdown",
   "metadata": {},
   "source": [
    "#### while loops"
   ]
  },
  {
   "cell_type": "markdown",
   "metadata": {},
   "source": [
    "The `while` loop keeps on running a set of commands **while** some condition is still met."
   ]
  },
  {
   "cell_type": "markdown",
   "metadata": {},
   "source": [
    "```sh\n",
    "COUNTER=0\n",
    "\n",
    "# Check COUNTER being less than 10\n",
    "while [ $COUNTER -lt 10 ]; do\n",
    "  echo The counter is $COUNTER\n",
    "\n",
    "  # let allows arithmetic expressions to be evaluated\n",
    "  let COUNTER+=1\n",
    "done\n",
    "```"
   ]
  },
  {
   "cell_type": "markdown",
   "metadata": {},
   "source": [
    "#### for loops"
   ]
  },
  {
   "cell_type": "markdown",
   "metadata": {},
   "source": [
    "Similar to `while` loops, `for` loops will iterate over a set of commands. This type of loop, however, loops over a list of items until that list is done."
   ]
  },
  {
   "cell_type": "markdown",
   "metadata": {},
   "source": [
    "```sh\n",
    "# Simple for loop example\n",
    "for i in 1 2 3 4; do\n",
    "  echo $i\n",
    "done\n",
    "\n",
    "# Another way of the above\n",
    "echo\n",
    "for i in $(seq 1 4); do  # seq prints sequence of numbers\n",
    "  echo $i\n",
    "done\n",
    "```"
   ]
  },
  {
   "cell_type": "markdown",
   "metadata": {},
   "source": [
    "### Exit Status Indicators for Scripts"
   ]
  },
  {
   "cell_type": "markdown",
   "metadata": {},
   "source": [
    "Unix and Linux systems have what are called **exit codes** that scripts/programs can return after it is done running.\n",
    "\n",
    "These codes indicate whether or not the script passed successfully (`0`), failed in some way (`1`), or misuse of shell commands (`2`). There are a variety of other codes for other situations.\n",
    "\n",
    "Because scripts are typically run in the context of other scripts, it can be important to know if any one of the inner scripts fail in someway so that you can fix them.\n",
    "\n",
    "To access the exit code of the previous script, you can use the `$?` variable."
   ]
  },
  {
   "cell_type": "markdown",
   "metadata": {},
   "source": [
    "```sh\n",
    "ls %  # <-- This will fail\n",
    "echo $?\n",
    "\n",
    "bashscript  # <-- Will also fail because non-existant\n",
    "echo $?\n",
    "```"
   ]
  },
  {
   "cell_type": "markdown",
   "metadata": {},
   "source": [
    "Here is how you could use these within your own bash scripts."
   ]
  },
  {
   "cell_type": "markdown",
   "metadata": {},
   "source": [
    "```sh\n",
    "# Create bash script\n",
    "echo '#!/usr/bin/env bash\n",
    "\n",
    "head -n 1 ../README.md\n",
    "\n",
    "if [[ $? -eq 0 ]]; then\n",
    "  echo \"Successfully read beginning of file\"; exit 0\n",
    "else\n",
    "  echo \"Failed to read beginning of file\"; exit 1\n",
    "fi' > test_exit_codes.sh\n",
    "\n",
    "# Run bash script from above\n",
    "bash test_exit_codes.sh\n",
    "```"
   ]
  },
  {
   "cell_type": "markdown",
   "metadata": {},
   "source": [
    "**Resources and more**\n",
    "\n",
    "- [Understanding Exit Codes and how to use them in bash scripts](http://bencane.com/2014/09/02/understanding-exit-codes-and-how-to-use-them-in-bash-scripts/)\n",
    "- [Appendix E. Exit Codes with Special meanings](http://www.tldp.org/LDP/abs/html/exitcodes.html)\n",
    "- [Exit command](https://bash.cyberciti.biz/guide/Exit_command)"
   ]
  },
  {
   "cell_type": "markdown",
   "metadata": {},
   "source": [
    "## File Transfer and Interacting with the Web and Servers"
   ]
  },
  {
   "cell_type": "markdown",
   "metadata": {},
   "source": [
    "When data analyses require compute power not available to your local computer, a server dedicated to crunching numbers and analyses may be help.\n",
    "\n",
    "When working with a server, you may want to move files between your own computer and the server. While there are graphical tools to do this, there are command line tools available to you to do this as well."
   ]
  },
  {
   "cell_type": "markdown",
   "metadata": {},
   "source": [
    "### `curl` and `wget` retrieve files from servers"
   ]
  },
  {
   "cell_type": "markdown",
   "metadata": {},
   "source": [
    "`curl` and `wget` are both command line tools that can download contents from servers and the internet.\n",
    "\n",
    "For simple file downloads, there isn't much of a difference in use."
   ]
  },
  {
   "cell_type": "markdown",
   "metadata": {},
   "source": [
    "#### curl"
   ]
  },
  {
   "cell_type": "markdown",
   "metadata": {},
   "source": [
    "**Note**: the flags below are the letter `O` (as in ostrich), not the number zero (`0`)."
   ]
  },
  {
   "cell_type": "markdown",
   "metadata": {},
   "source": [
    "```sh\n",
    "# Download Python's PEP 20 file\n",
    "curl -O https://raw.githubusercontent.com/python/peps/master/pep-0020.txt\n",
    "\n",
    "# Do the same thing, but name the downloaded file differently\n",
    "curl -o zen.txt https://raw.githubusercontent.com/python/peps/master/pep-0020.txt\n",
    "```"
   ]
  },
  {
   "cell_type": "markdown",
   "metadata": {},
   "source": [
    "#### wget"
   ]
  },
  {
   "cell_type": "markdown",
   "metadata": {},
   "source": [
    "```sh\n",
    "# wget doesn't require any flags if you just want to download the file\n",
    "wget https://raw.githubusercontent.com/python/peps/master/pep-0020.txt\n",
    "\n",
    "# You can similarly name the downloaded file differently using the letter O\n",
    "wget -O pep_zen.txt https://raw.githubusercontent.com/python/peps/master/pep-0020.txt\n",
    "```"
   ]
  },
  {
   "cell_type": "markdown",
   "metadata": {},
   "source": [
    "#### Resources and more\n",
    "\n",
    "- [curl vs wget](https://daniel.haxx.se/docs/curl-vs-wget.html)\n",
    "- [What is the difference between curl and wget?](https://unix.stackexchange.com/questions/47434/what-is-the-difference-between-curl-and-wget)\n",
    "- [Linux/Unix: curl Command Download File Example](https://www.cyberciti.biz/faq/curl-download-file-example-under-linux-unix/)\n",
    "- [Linux wget: Your Ultimate Command Line Downloader](https://www.cyberciti.biz/tips/linux-wget-your-ultimate-command-line-downloader.html)"
   ]
  },
  {
   "cell_type": "markdown",
   "metadata": {},
   "source": [
    "### `scp` and `sftp` for secure transfer of files"
   ]
  },
  {
   "cell_type": "markdown",
   "metadata": {},
   "source": [
    "`scp` and `sftp` are both useful command line tools to move files between servers/computers.\n",
    "\n",
    "For example, you can use this program to move files between your computer and State using these two commands.\n",
    "\n",
    "The **s** in front of each of these commands stands for **secure** because they both encrypt the data they transfer."
   ]
  },
  {
   "cell_type": "markdown",
   "metadata": {},
   "source": [
    "#### `scp`"
   ]
  },
  {
   "cell_type": "markdown",
   "metadata": {},
   "source": [
    "`scp` stands for *secure copy* because this command copies files from a server.\n",
    "\n",
    "So we can run the following command from my computer to copy this document to State."
   ]
  },
  {
   "cell_type": "markdown",
   "metadata": {},
   "source": [
    "```sh\n",
    "# Copy this file over to the root of my user account\n",
    "scp unix_outline.org leunge@state.ohsu.edu:~/\n",
    "```"
   ]
  },
  {
   "cell_type": "markdown",
   "metadata": {},
   "source": [
    "**Note** the colon after the server name. After the colon, you can type the path location where you'd like to put the file. In this case, the file will be moved to the root of my user account.\n",
    "\n",
    "You can also move entire directories using the `-r` flag."
   ]
  },
  {
   "cell_type": "markdown",
   "metadata": {},
   "source": [
    "```sh\n",
    "# Move this entire lecture directory to account\n",
    "scp -r ../../ leunge@state.ohsu.edu:~/\n",
    "```"
   ]
  },
  {
   "cell_type": "markdown",
   "metadata": {},
   "source": [
    "#### `sftp`"
   ]
  },
  {
   "cell_type": "markdown",
   "metadata": {},
   "source": [
    "The `sftp` works similarly to `scp` to copy files. One key difference is that\n",
    "it is **interactive**.\n",
    "\n",
    "| Command    | Description                        |\n",
    "|------------|------------------------------------|\n",
    "| `cd dir`   | Move to directory                  |\n",
    "| `lcd dir`  | Change directory on local computer |\n",
    "| `ls`       | List files on server               |\n",
    "| `lls`      | List files on local computer       |\n",
    "| `pwd`      | Print working directory on server  |\n",
    "| `lpwd`     | Print working directory on local   |\n",
    "| `get file` | Download file from server to local |\n",
    "| `put file` | Upload file from local to server   |\n",
    "| `exit`     | Exit from sftp program             |\n",
    "\n",
    "To start a secure FTP session, run the following.\n",
    "\n",
    "```sh\n",
    "# Start FTP session\n",
    "sftp leunge@state.ohsu.edu\n",
    "```\n",
    "\n",
    "Then you should be greeted with the following.\n",
    "\n",
    "```sh\n",
    "sftp>\n",
    "```\n",
    "\n",
    "From here, you can run commands to move files between your computer and the server.\n",
    "\n",
    "```sh\n",
    "sftp> lls\n",
    "sftp> put unix_outline.org\n",
    "sftp> ls\n",
    "sftp> exit\n",
    "```"
   ]
  },
  {
   "cell_type": "markdown",
   "metadata": {},
   "source": [
    "#### Resources and more\n",
    "\n",
    "- [How to exclude file when using scp command recursively](https://www.cyberciti.biz/faq/scp-exclude-files-when-using-command-recursively-on-unix-linux/)\n",
    "- [Unix / Linux: sftp File From One Server To Another](https://www.cyberciti.biz/faq/sftp-file-from-server-to-another-in-unix-linux/)"
   ]
  },
  {
   "cell_type": "markdown",
   "metadata": {},
   "source": [
    "## Exercise Break! (See Exercise #3 below)"
   ]
  },
  {
   "cell_type": "markdown",
   "metadata": {},
   "source": [
    "## Useful Tools"
   ]
  },
  {
   "cell_type": "markdown",
   "metadata": {},
   "source": [
    "### `screen` "
   ]
  },
  {
   "cell_type": "markdown",
   "metadata": {},
   "source": [
    "`Screen` is a \"terminal multiplexer\".\n",
    "\n",
    "This is a fancy way of describing how to use a single terminal window and create new terminals from within it, without opening another window.\n",
    "\n",
    "Here are some benefits to using a terminal multiplexer:\n",
    "\n",
    "- Quickly switch between contexts\n",
    "- Keep a job running even when disconnected from the server \n",
    "- Pick up progress quickly on a server when you login"
   ]
  },
  {
   "cell_type": "markdown",
   "metadata": {},
   "source": [
    "#### Screen"
   ]
  },
  {
   "cell_type": "markdown",
   "metadata": {},
   "source": [
    "Initially releases in 1987, Screen is a mature and stable terminal multiplexer."
   ]
  },
  {
   "cell_type": "markdown",
   "metadata": {},
   "source": [
    "```sh\n",
    "# Start and open screen session\n",
    "screen\n",
    "\n",
    "# \"Re-attach\" to running session\n",
    "screen -r\n",
    "\n",
    "# Look at running sessions\n",
    "screen -ls\n",
    "\n",
    "# Create named screen session without attaching\n",
    "screen -dmS myscreen\n",
    "```"
   ]
  },
  {
   "cell_type": "markdown",
   "metadata": {},
   "source": [
    "The main key to invoke changes or to control Screen is <kbd>Ctrl+a</kbd>. The following\n",
    "is a list of commands to use while in screen.\n",
    "\n",
    "| Command                 | Description                           |\n",
    "|-------------------------|---------------------------------------|\n",
    "| <kbd>Ctrl+a c</kbd>     | Create new Screen window              |\n",
    "| <kbd>Ctrl+a 0-9</kbd>   | Switch to window number               |\n",
    "| <kbd>Ctrl+a x</kbd>     | Locks terminal window                 |\n",
    "| <kbd>Ctrl+a n</kbd>     | Switch to next window                 |\n",
    "| <kbd>Ctrl+a space</kbd> | Switch to next window                 |\n",
    "| <kbd>Ctrl+a k</kbd>     | Close current window                  |\n",
    "| <kbd>Ctrl+a A</kbd>     | Choose title for window               |\n",
    "| <kbd>Ctrl+a d</kbd>     | Detach from Screen and keep session   |\n",
    "| <kbd>Ctrl+a \\|</kbd>    | Split window into two vertical planes |\n",
    "| <kbd>Ctrl+a S</kbd>     | Split window horizontally             |\n",
    "| <kbd>Ctrl+a Q</kbd>     | Unsplit windows                       |\n",
    "| <kbd>Ctrl+a tab</kbd>   | Switch from one to another            |\n",
    "| <kbd>Ctrl+a \"</kbd>     | Switch between terminals using list   |\n",
    "| <kbd>Ctrl+a ?</kbd>     | Display list of all commands          |\n"
   ]
  },
  {
   "cell_type": "markdown",
   "metadata": {},
   "source": [
    "#### Resources and more\n",
    "\n",
    "- Manual\n",
    "  - [Screen User's Manual](https://www.gnu.org/software/screen/manual/html_node/index.html)\n",
    "- Screen tutorials\n",
    "  - [Using GNU Screen to Manage Persistent Terminal Sessions - linode](https://www.linode.com/docs/networking/ssh/using-gnu-screen-to-manage-persistent-terminal-sessions/)\n",
    "  - [A quick tutorial on screen - Matt Cutts](https://www.mattcutts.com/blog/a-quick-tutorial-on-screen/)\n",
    "  - [Learn to use screen, a terminal multiplexer - dev.to](https://dev.to/thiht/learn-to-use-screen-a-terminal-multiplexer-gl)"
   ]
  },
  {
   "cell_type": "markdown",
   "metadata": {
    "heading_collapsed": true
   },
   "source": [
    "## Summary"
   ]
  },
  {
   "cell_type": "markdown",
   "metadata": {
    "hidden": true
   },
   "source": [
    "<span style=\"display: inline-block\">\n",
    "\n",
    "| Command/Term   | Simple Description                    |\n",
    "|----------------|---------------------------------------|\n",
    "| `man`          | Displays the manual                   |\n",
    "| `pwd`          | Displays current directory            |\n",
    "| `ls`           | Display files in directory            |\n",
    "| `cd`           | Change current directory              |\n",
    "| `echo`         | Display lines of text                 |\n",
    "| `head`         | Display first few lines of text       |\n",
    "| `cat`          | Print entire file                     |\n",
    "| `less`         | Scroll through a file                 |\n",
    "| `wc`           | Get word and line counts              |\n",
    "| `touch`        | Update file or create new file        |\n",
    "| `cp`           | Copy files and directories            |\n",
    "| `mv`           | Move files and directories            |\n",
    "| `rm`           | Delete files and directories          |\n",
    "| `mkdir`        | Create new directory                  |\n",
    "| `rmdir`        | Remove empty directory                |\n",
    "| `chmod`        | Change file/directory permissions     |\n",
    "| `which`        | Show path to command                  |\n",
    "| `STDIN`        | Input going into program              |\n",
    "| `STDOUT`       | Output coming out of programs         |\n",
    "| `STDERR`       | Error messages                        |\n",
    "| `>`            | Write to file                         |\n",
    "| `>>`           | Append to file                        |\n",
    "| `<`            | Input file to command                 |\n",
    "| `\\|` (Pipe)     | Pass text between commands            |\n",
    "| `awk`          | Process text in tabular form          |\n",
    "| `sed`          | Edit streams of data                  |\n",
    "| `cut`          | Divide file by column/delimiters      |\n",
    "| `sort`         | Sort text                             |\n",
    "| `uniq`         | Filter repeated lines                 |\n",
    "| `grep`         | Search for patterns                   |\n",
    "| `find`         | Search for files                      |\n",
    "| `$?`           | Check exit status of previous command |\n",
    "| `curl`         | Transfer data                         |\n",
    "| `wget`         | Retrieves contents from servers       |\n",
    "| `scp`          | Secure copy over SSH                  |\n",
    "| `sftp`         | Secure file transfer (interactive)    |\n",
    "| `screen`       | Terminal multiplexer                  |\n",
    "\n",
    "</span>"
   ]
  },
  {
   "cell_type": "markdown",
   "metadata": {
    "hidden": true
   },
   "source": [
    "```sh\n",
    "# Remove all generated files\n",
    "rm -f count_lines.sh \\\n",
    "    list_of_files.txt \\\n",
    "    pep* \\\n",
    "    restricted_file.txt \\\n",
    "    test_exit_codes.sh \\\n",
    "    test_file.txt \\\n",
    "    zen.txt \\\n",
    "    new_file_1.txt\n",
    "```"
   ]
  },
  {
   "cell_type": "markdown",
   "metadata": {},
   "source": [
    "## Exercises"
   ]
  },
  {
   "cell_type": "markdown",
   "metadata": {},
   "source": [
    "#### Exercise 1: Basic Pipelines\n",
    "\n",
    "Create two simple Python programs:\n",
    "\n",
    "1. Generate a random DNA sequence to `STDOUT`\n",
    "2. Process sequence data from `STDIN` and calculate sequence length to `STDOUT`\n",
    "\n",
    "Construct a bash pipeline script that calls the two Python program and save the\n",
    "final output to a file.\n",
    "\n",
    "**Hint**: Use the Python functions `sys.stdout.write()` and `sys.stdin.read()`.\n",
    "\n",
    "#### Exercise 2: Search for Codons\n",
    "\n",
    "Using the random DNA sequence Python script from Exercise 1, generate a random sequence of DNA and count the number of times the DNA sequence \"TAA\" (a stop codon) occurs.\n",
    "\n",
    "**Hint**: You can use the `-o` flag for `grep` to print all matches.\n",
    "\n",
    "**Bonus**: Simultaneously find all three stop codons: \"TAA\", \"TAG\", \"TGA\" and count them each.\n",
    "\n",
    "#### Exercise 3: Download Data and Chop It Up\n",
    "\n",
    "Create a bash script to download the processed Long Beach V.A. data `processed.va.data` from the [Heart Disease Data Set](https://archive.ics.uci.edu/ml/datasets/Heart+Disease) and filter to keep only subjects with Class 0 (last column). Save this subset of the data to a separate file.\n",
    "\n",
    "The data can be found at: [https://archive.ics.uci.edu/ml/machine-learning-databases/heart-disease/](https://archive.ics.uci.edu/ml/machine-learning-databases/heart-disease/).\n",
    "\n",
    "**Hint**: Use `wget`/`curl` to download file and `awk` to subset data."
   ]
  },
  {
   "cell_type": "markdown",
   "metadata": {},
   "source": [
    "## General Resources\n",
    "\n",
    "- [Linux Commands and Shell Scripting - learnbyexample](https://github.com/learnbyexample/Linux_command_line): overview of Linux and commonly found commands\n",
    "- [Command Line Text Processing - learnbyexample](https://github.com/learnbyexample/Command-line-text-processing): from finding text to search and replace, from sorting to beautifying text and more\n",
    "- [Advanced Bash-Scripting Guide](http://tldp.org/LDP/abs/html/): an in-depth exploration of the art of shell scripting\n",
    "- [Bioinformatics One-Linears - Stephen Turner](https://github.com/stephenturner/oneliners): useful bash one-liners useful for bioinformatics\n",
    "- [The Art of Command Line](https://github.com/jlevy/the-art-of-command-line): guide both for beginners and the experienced, with goals of **breadth** (everything important), **specificity** (give concrete examples of the most common case), and **brevity** (avoid things that aren't essential or digressions you can easily look up elsewhere)\n",
    "- [Bash Handbook - denysdovhan](https://github.com/denysdovhan/bash-handbook): document for those who want to learn Bash without diving in too deeply.\n",
    "- [Awesome Bash](https://github.com/awesome-lists/awesome-bash): a curated list of delightful Bash script and resources\n",
    "- [Julia Evans' (@b0rk) Twitter snippets](https://twitter.com/i/moments/1026078161115729920): scroll through her photos for hand drawn descriptions of bash and others\n",
    "- [Bash Guide for Beginners](http://tldp.org/LDP/Bash-Beginners-Guide/html/index.html)\n",
    "- [BASH Programming - Introduction HOW-TO](http://tldp.org/HOWTO/Bash-Prog-Intro-HOWTO.html)\n",
    "- [Bash Pitfalls - Common Errors Bash Programmers Make](http://mywiki.wooledge.org/BashPitfalls)\n",
    "- [Unix as IDE Series](https://sanctum.geek.nz/arabesque/series/unix-as-ide/)"
   ]
  }
 ],
 "metadata": {
  "kernelspec": {
   "display_name": "Python 3 (ipykernel)",
   "language": "python",
   "name": "python3"
  },
  "language_info": {
   "codemirror_mode": {
    "name": "ipython",
    "version": 3
   },
   "file_extension": ".py",
   "mimetype": "text/x-python",
   "name": "python",
   "nbconvert_exporter": "python",
   "pygments_lexer": "ipython3",
   "version": "3.8.5"
  }
 },
 "nbformat": 4,
 "nbformat_minor": 4
}
