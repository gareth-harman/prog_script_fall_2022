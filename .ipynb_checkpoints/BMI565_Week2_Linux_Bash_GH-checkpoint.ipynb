{
 "cells": [
  {
   "cell_type": "markdown",
   "id": "fe0140d1-a2ed-4183-9727-ec227e92e3c4",
   "metadata": {},
   "source": [
    "# Intro to UNIX-based Operating Systems"
   ]
  },
  {
   "cell_type": "markdown",
   "id": "ac760aed-66e7-419f-8147-62d5aab245f1",
   "metadata": {},
   "source": [
    "UNIX (Linux/OSX) vs Menu-based (Windows)\n",
    "\n",
    "Linux:\n",
    "- <span style=\"color:green\">Open source</span>\n",
    "- <span style=\"color:green\">Many many linux distributions</span>\n",
    "- <span style=\"color:green\">Can be very lightweight</span>\n",
    "- <span style=\"color:green\">Free</span>\n",
    "- <span style=\"color:red\">Learning curve</span>\n",
    "\n",
    "OSX (UNIX):\n",
    "- <span style=\"color:green\">On all mac products</span>\n",
    "- <span style=\"color:green\">User friendly</span>\n",
    "- <span style=\"color:red\">Not fully open source</span>\n",
    "- <span style=\"color:red\">Single version</span>\n",
    "- <span style=\"color:red\">Not as lightweight</span>\n",
    "\n",
    "Windows (Menu-based)\n",
    "- <span style=\"color:green\">User friendly</span>\n",
    "- <span style=\"color:red\">Lots of background processes</span>\n",
    "- <span style=\"color:red\">Not open source</span>\n",
    "- <span style=\"color:red\">Costs</span>"
   ]
  },
  {
   "cell_type": "markdown",
   "id": "0e23da66-dbc4-42be-a16b-4d0634e7a276",
   "metadata": {},
   "source": [
    "# The Terminal"
   ]
  },
  {
   "cell_type": "markdown",
   "id": "fda4e300-38a8-44df-9ea1-715c644ad2bf",
   "metadata": {},
   "source": [
    "- One of the primary differences between UNIX and menu-based systems is the use of the terminal to navigate files/folders and complete tasks"
   ]
  },
  {
   "cell_type": "markdown",
   "id": "903288f4-e19b-46e0-b03a-6312c3ea9771",
   "metadata": {},
   "source": [
    "## bash (Bourne Again SHell)\n",
    "\n",
    "`#!/bin/bash`\n",
    "\n",
    "- First released in 1989\n",
    "- UNIX shell that is the default for most Linux distro's\n",
    "- One of the first programs Linus Torvalds ported to Linux\n",
    "\n",
    "## Shell (sh)\n",
    "\n",
    "`#!/bin/sh`\n",
    "\n",
    "- Developed first by Stephen R. Bourne\n",
    "- Less functionality \n",
    "- Doest not support job controls\n",
    "- Not as easy to use as bash\n",
    "- Does not support command history\n",
    "- Syntax is slightly different from that of bash\n",
    "\n",
    "## zsh\n",
    "\n",
    "`#!/bin/zsh`\n",
    "\n",
    "- Not always installed on systems\n",
    "- Default shell for MacOS\n",
    "- Built on bash \n",
    "- Provides much more flexibility\n",
    "    - Plug-in support\n",
    "    - Customization\n",
    "    - Theme support\n",
    "    - Syntax highlighting\n",
    "    - Wildcard extension\n",
    "    - Spelling correction"
   ]
  },
  {
   "cell_type": "markdown",
   "id": "f9efbb54-32be-46a4-aec3-58d2bbb1fe7d",
   "metadata": {},
   "source": []
  },
  {
   "cell_type": "code",
   "execution_count": null,
   "id": "b1235dbc-9798-42ba-b631-10653634cfe3",
   "metadata": {},
   "outputs": [],
   "source": []
  }
 ],
 "metadata": {
  "kernelspec": {
   "display_name": "Python 3 (ipykernel)",
   "language": "python",
   "name": "python3"
  },
  "language_info": {
   "codemirror_mode": {
    "name": "ipython",
    "version": 3
   },
   "file_extension": ".py",
   "mimetype": "text/x-python",
   "name": "python",
   "nbconvert_exporter": "python",
   "pygments_lexer": "ipython3",
   "version": "3.8.5"
  }
 },
 "nbformat": 4,
 "nbformat_minor": 5
}
