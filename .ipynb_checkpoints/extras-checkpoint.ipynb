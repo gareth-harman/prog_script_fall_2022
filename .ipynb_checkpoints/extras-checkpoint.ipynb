{
 "cells": [
  {
   "cell_type": "code",
   "execution_count": null,
   "id": "d84d2760-3520-4a71-bb6c-3884271ed92c",
   "metadata": {},
   "outputs": [],
   "source": [
    "# Exercise-1\n",
    "\n",
    "1. Check were you are on in your terminal\n",
    "2. Navigate to your Desktop\n",
    "3. Create a new folder named `exercise_1`\n",
    "4. \n",
    "\n",
    "1. Navigate to your downloads (`cd`)\n",
    "2. Create an empty file called `download.info` (`touch`)\n",
    "3. Add the contents of your downloads folder (in reverse order in list format) (`man ls`)\n",
    "4. Print **ONLY** the file names of the first 4 files listed in our `download.info` to the terminal\n",
    "\n",
    "\n",
    "```bash\n",
    "\n",
    "# Create the directory\n",
    "mkdir my_files\n",
    "\n",
    "# Move into our directory\n",
    "cd my_files\n",
    "\n",
    "# Download the files\n",
    "curl https://www.usna.edu/Users/cs/roche/courses/s15si335/proj1/files.php%3Ff=names.txt&downloadcode=yes -o babynames.txt\n",
    "curl https://gist.githubusercontent.com/bensie/130828/raw/43d59239b4c1c40672dc6eea0f4565a8915b5372/states.txt -o states.txt\n",
    "\n",
    "# Create file\n",
    "touch download.info\n",
    "\n",
    "# Append output of ls -lr into our file\n",
    "ls -lr >> download.info\n",
    "\n",
    "# Get head of \n",
    "head -n 5 download.info | awk '{ print $9 \" \" }'\n",
    "\n",
    "sed -n 5,8p download.info | awk '{ print $9 \" \" }'\n",
    "\n",
    "sed -n 5,8p download.info | awk '{ print $9 \" \" }'\n",
    "\n",
    "\n",
    "```"
   ]
  }
 ],
 "metadata": {
  "kernelspec": {
   "display_name": "Python 3 (ipykernel)",
   "language": "python",
   "name": "python3"
  },
  "language_info": {
   "codemirror_mode": {
    "name": "ipython",
    "version": 3
   },
   "file_extension": ".py",
   "mimetype": "text/x-python",
   "name": "python",
   "nbconvert_exporter": "python",
   "pygments_lexer": "ipython3",
   "version": "3.8.5"
  }
 },
 "nbformat": 4,
 "nbformat_minor": 5
}
