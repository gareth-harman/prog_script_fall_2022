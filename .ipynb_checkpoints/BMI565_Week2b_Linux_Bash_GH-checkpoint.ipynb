{
 "cells": [
  {
   "cell_type": "markdown",
   "id": "fd6ce148-a7d5-49c8-ba59-f74484e66de1",
   "metadata": {},
   "source": [
    "\n",
    "# Installing zsh and tmux\n",
    "\n",
    "### Windows\n",
    "\n",
    "**Using git-bash terminal**\n",
    "\n",
    "```bash\n",
    "# Download the tool unzip in ZStandard compression format\n",
    "curl -L https://sourceforge.net/projects/zstd-for-windows/files/zstd_Windows7%5BMinGW%5D%28static%29.zip -o zstd.zip\n",
    "\n",
    "# Unzip the tool\n",
    "unzip zstd.zip\n",
    "\n",
    "# Move it to our readily accessible path\n",
    "mv zstd_Win32/zstd.exe /c/[User]/Windows/\n",
    "\n",
    "# Double check its available\n",
    "which zstd\n",
    "\n",
    "# Download tmux, libevent, zsh from the MYS2 dir\n",
    "curl -L https://repo.msys2.org/msys/x86_64/tmux-3.3.a-1-x86_64.pkg.tar.zst -o tmux.tar.zst\n",
    "curl -L https://repo.msys2.org/msys/x86_64/libevent-2.1.12-2-x86_64.pkg.tar.zst -o libevent.tar.zst\n",
    "curl -L https://repo.msys2.org/msys/x86_64/zsh-5.8-4-x86_64.pkg.tar.zst -o zsh.tar.zst\n",
    "\n",
    "# Extract from Zstandard\n",
    "zstd -d tmux.tar.zst\n",
    "zstd -d libevent.tar.zst\n",
    "zstd -d zsh.tar.zst\n",
    "\n",
    "# Extract from tar\n",
    "tar -xvf tmux.tar.zst -C \"/c/Program Files/Git/\"\n",
    "tar -xvf libevent.tar.zst -C \"/c/Program Files/Git/\"\n",
    "tar -xvf zsh.tar.zst -C \"/c/Program Files/Git/\"\n",
    "\n",
    "# Create zsh profile\n",
    "touch ~/.zshrc\n",
    "\n",
    "```\n",
    "\n",
    "### MAC\n",
    "\n",
    "- `zsh` is already installed install tmux by running \n",
    "\n",
    "```bash\n",
    "# Install brew \n",
    "brew update\n",
    "\n",
    "# Install tmux through brew\n",
    "brew install tmux\n",
    "\n",
    "```"
   ]
  },
  {
   "cell_type": "markdown",
   "id": "167182ab-1ce6-462b-b8ee-670ff29648b9",
   "metadata": {},
   "source": [
    "# 1. Screen based text editors \n",
    "\n",
    "<center><img src=\"https://upload.wikimedia.org/wikipedia/commons/9/9f/Vimlogo.svg\"/ width=\"250\"></center>\n",
    " \n",
    " ## Why use them?\n",
    " \n",
    " - They are installed *by default* on most UNIX systems\n",
    " - Sometimes they are the only option (without X11 forwarding) \n",
    "     - Advanced Computing Center (exahead)\n",
    "     - AWS\n",
    " - Extremely lightweight \n",
    " - Highly customizable\n",
    " - **EXTREMELY FAST**\n",
    "     \n",
    "Alternatives to vim\n",
    "\n",
    "- `vim` is an extension of `vi` and `neovim` an extension `vim`\n",
    "\n",
    "- Emacs, nano"
   ]
  },
  {
   "cell_type": "markdown",
   "id": "45e037ce-eba2-463b-ad6e-e1a811d33d0d",
   "metadata": {},
   "source": [
    "# 3. Conda Environments"
   ]
  },
  {
   "cell_type": "markdown",
   "id": "cb339c1e-dc0c-4677-bbce-74448dd9b469",
   "metadata": {},
   "source": [
    "# 4. The Bash Profile\n",
    "\n",
    "## *.bash_profile*\n",
    "\n",
    "- The `.` means it is a hidden file (not listed using `ls` unless we do `ls -a`)\n",
    "- This file **runs at the start of a new login shell**\n",
    "- Common things to have in here include adding items to the our `$PATH` variable\n",
    "    - We don't need to append our path every time we create a new instance of bash\n",
    "\n",
    "## *.bashrc*\n",
    "\n",
    "- This file **runs every time we start an interactive shell**\n",
    "- This is a great place to put custom functions and aliases\n",
    "\n",
    "[More detail in this stackexchange post](https://unix.stackexchange.com/questions/129143/what-is-the-purpose-of-bashrc-and-how-does-it-work)"
   ]
  },
  {
   "cell_type": "markdown",
   "id": "8baae755-9589-4346-91ef-6c70475c598d",
   "metadata": {},
   "source": [
    "# 5. Variables and Aliases\n",
    "\n",
    "Local Variables\n",
    "\n"
   ]
  },
  {
   "cell_type": "code",
   "execution_count": null,
   "id": "ab8a61bc-e9b2-480e-b290-9615b7ef97fb",
   "metadata": {},
   "outputs": [],
   "source": []
  }
 ],
 "metadata": {
  "kernelspec": {
   "display_name": "Python 3 (ipykernel)",
   "language": "python",
   "name": "python3"
  },
  "language_info": {
   "codemirror_mode": {
    "name": "ipython",
    "version": 3
   },
   "file_extension": ".py",
   "mimetype": "text/x-python",
   "name": "python",
   "nbconvert_exporter": "python",
   "pygments_lexer": "ipython3",
   "version": "3.8.5"
  }
 },
 "nbformat": 4,
 "nbformat_minor": 5
}
